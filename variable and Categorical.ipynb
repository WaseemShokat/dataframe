{
 "cells": [
  {
   "cell_type": "code",
   "execution_count": 1,
   "id": "d7b92150",
   "metadata": {},
   "outputs": [],
   "source": [
    "import pandas as pd"
   ]
  },
  {
   "cell_type": "code",
   "execution_count": null,
   "id": "f90f86da",
   "metadata": {},
   "outputs": [],
   "source": [
    "#Identifying individuals, variables and categorical variables in a data set"
   ]
  },
  {
   "cell_type": "code",
   "execution_count": null,
   "id": "8899c7dd",
   "metadata": {},
   "outputs": [],
   "source": [
    "'''Millions of Americans rely on coffeine to go them up in the morning. here's the nutritional data on some popular drinks \n",
    "at Ben's Beans coffee Shop'''"
   ]
  },
  {
   "cell_type": "code",
   "execution_count": 12,
   "id": "45b094e3",
   "metadata": {},
   "outputs": [
    {
     "data": {
      "text/html": [
       "<div>\n",
       "<style scoped>\n",
       "    .dataframe tbody tr th:only-of-type {\n",
       "        vertical-align: middle;\n",
       "    }\n",
       "\n",
       "    .dataframe tbody tr th {\n",
       "        vertical-align: top;\n",
       "    }\n",
       "\n",
       "    .dataframe thead th {\n",
       "        text-align: right;\n",
       "    }\n",
       "</style>\n",
       "<table border=\"1\" class=\"dataframe\">\n",
       "  <thead>\n",
       "    <tr style=\"text-align: right;\">\n",
       "      <th></th>\n",
       "      <th>Drink</th>\n",
       "      <th>Type</th>\n",
       "      <th>calories</th>\n",
       "      <th>Sugars(g)</th>\n",
       "      <th>Caffeine(mg)</th>\n",
       "    </tr>\n",
       "  </thead>\n",
       "  <tbody>\n",
       "    <tr>\n",
       "      <th>0</th>\n",
       "      <td>Brewed coffee</td>\n",
       "      <td>Hot</td>\n",
       "      <td>4</td>\n",
       "      <td>0</td>\n",
       "      <td>260</td>\n",
       "    </tr>\n",
       "    <tr>\n",
       "      <th>1</th>\n",
       "      <td>Caffe Latte</td>\n",
       "      <td>Hot</td>\n",
       "      <td>100</td>\n",
       "      <td>14</td>\n",
       "      <td>75</td>\n",
       "    </tr>\n",
       "    <tr>\n",
       "      <th>2</th>\n",
       "      <td>Cafe mocha</td>\n",
       "      <td>Hot</td>\n",
       "      <td>170</td>\n",
       "      <td>27</td>\n",
       "      <td>95</td>\n",
       "    </tr>\n",
       "    <tr>\n",
       "      <th>3</th>\n",
       "      <td>Cappuccino</td>\n",
       "      <td>Hot</td>\n",
       "      <td>60</td>\n",
       "      <td>8</td>\n",
       "      <td>75</td>\n",
       "    </tr>\n",
       "    <tr>\n",
       "      <th>4</th>\n",
       "      <td>Iced Brewed coffee</td>\n",
       "      <td>Cold</td>\n",
       "      <td>60</td>\n",
       "      <td>15</td>\n",
       "      <td>120</td>\n",
       "    </tr>\n",
       "    <tr>\n",
       "      <th>5</th>\n",
       "      <td>Chai latte</td>\n",
       "      <td>Hot</td>\n",
       "      <td>120</td>\n",
       "      <td>25</td>\n",
       "      <td>60</td>\n",
       "    </tr>\n",
       "  </tbody>\n",
       "</table>\n",
       "</div>"
      ],
      "text/plain": [
       "                Drink  Type  calories  Sugars(g)  Caffeine(mg)\n",
       "0       Brewed coffee   Hot         4          0           260\n",
       "1         Caffe Latte   Hot       100         14            75\n",
       "2          Cafe mocha   Hot       170         27            95\n",
       "3          Cappuccino   Hot        60          8            75\n",
       "4  Iced Brewed coffee  Cold        60         15           120\n",
       "5          Chai latte   Hot       120         25            60"
      ]
     },
     "execution_count": 12,
     "metadata": {},
     "output_type": "execute_result"
    }
   ],
   "source": [
    "Beans_coffee_Shop=pd.DataFrame({\n",
    "    'Drink':[\"Brewed coffee\",\"Caffe Latte\",\"Cafe mocha\",\"Cappuccino\",\"Iced Brewed coffee\",\"Chai latte\"],\n",
    "    'Type':['Hot','Hot','Hot','Hot','Cold','Hot'],\n",
    "    'calories':[4,100,170,60,60,120],\n",
    "    \"Sugars(g)\":[0,14,27,8,15,25],\n",
    "    \"Caffeine(mg)\":[260,75,95,75,120,60]\n",
    "})\n",
    "Beans_coffee_Shop"
   ]
  }
 ],
 "metadata": {
  "kernelspec": {
   "display_name": "Python 3 (ipykernel)",
   "language": "python",
   "name": "python3"
  },
  "language_info": {
   "codemirror_mode": {
    "name": "ipython",
    "version": 3
   },
   "file_extension": ".py",
   "mimetype": "text/x-python",
   "name": "python",
   "nbconvert_exporter": "python",
   "pygments_lexer": "ipython3",
   "version": "3.9.13"
  }
 },
 "nbformat": 4,
 "nbformat_minor": 5
}
